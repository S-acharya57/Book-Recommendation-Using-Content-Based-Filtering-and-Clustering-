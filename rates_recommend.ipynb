{
 "cells": [
  {
   "cell_type": "code",
   "execution_count": 55,
   "metadata": {},
   "outputs": [],
   "source": [
    "import numpy as np\n",
    "import pandas as pd\n",
    "from sklearn import metrics\n",
    "from sklearn.preprocessing import LabelEncoder\n",
    "from sklearn.cluster import KMeans\n",
    "import matplotlib.pyplot as plt\n",
    "from sklearn.metrics.pairwise import cosine_similarity\n",
    "from sklearn.decomposition import PCA\n",
    "\n",
    "df = pd.read_csv(\"dataset/book_data.csv\")\n",
    "df.fillna(value=\"\", inplace=True)\n",
    "\n",
    "\n",
    "df.drop_duplicates(subset=[\"book_title\"], inplace=True)\n",
    "\n",
    "\n",
    "df[\"genres\"] = df[\"genres\"].apply(lambda x: x.split(\"|\"))\n",
    "\n",
    "df[\"book_authors\"] = df[\"book_authors\"].apply(lambda x: x.split(\"|\"))\n",
    "\n",
    "df[\"book_pages\"] = pd.to_numeric(\n",
    "    df[\"book_pages\"].str.replace(\" pages\", \"\"), errors=\"coerce\"\n",
    ")\n",
    "\n",
    "df[\"book_pages\"] = (\n",
    "    df[\"book_pages\"]\n",
    "    .astype(str)\n",
    "    .str.replace(\" pages\", \"\")\n",
    "    .replace(\"\", np.nan)\n",
    "    .astype(float)\n",
    ")\n",
    "\n",
    "# print(df.describe())\n",
    "# print(df.info())\n",
    "# print(df.info)\n",
    "authors = [author for authors in df[\"book_authors\"] for author in authors]\n",
    "unique_authors = list(set(authors))\n",
    "\n",
    "le = LabelEncoder()\n",
    "\n",
    "author_labels = le.fit_transform(unique_authors)\n",
    "author_dict = dict(zip(unique_authors, author_labels))\n",
    "\n",
    "\n",
    "df_author = pd.DataFrame.from_dict(author_dict, orient='index', columns=['author_label'])\n",
    "\n",
    "# write the DataFrame to an Excel file\n",
    "df_author.to_excel('authors.xlsx')\n",
    "\n",
    "# Create a new column in the dataframe with the integer labels for each author\n",
    "df[\"author_labels\"] = [\n",
    "    list(map(lambda x: author_dict[x], authors)) for authors in df[\"book_authors\"]\n",
    "]\n",
    "\n",
    "#print(df[\"author_labels\"])"
   ]
  },
  {
   "cell_type": "code",
   "execution_count": 56,
   "metadata": {},
   "outputs": [
    {
     "data": {
      "text/plain": [
       "count    4.848300e+04\n",
       "mean     2.802133e+04\n",
       "std      1.586540e+05\n",
       "min      0.000000e+00\n",
       "25%      3.310000e+02\n",
       "50%      2.348000e+03\n",
       "75%      1.016800e+04\n",
       "max      5.588580e+06\n",
       "Name: book_rating_count, dtype: float64"
      ]
     },
     "execution_count": 56,
     "metadata": {},
     "output_type": "execute_result"
    }
   ],
   "source": [
    "df['book_rating_count'].describe()"
   ]
  },
  {
   "cell_type": "code",
   "execution_count": 57,
   "metadata": {},
   "outputs": [
    {
     "data": {
      "text/html": [
       "<div>\n",
       "<style scoped>\n",
       "    .dataframe tbody tr th:only-of-type {\n",
       "        vertical-align: middle;\n",
       "    }\n",
       "\n",
       "    .dataframe tbody tr th {\n",
       "        vertical-align: top;\n",
       "    }\n",
       "\n",
       "    .dataframe thead th {\n",
       "        text-align: right;\n",
       "    }\n",
       "</style>\n",
       "<table border=\"1\" class=\"dataframe\">\n",
       "  <thead>\n",
       "    <tr style=\"text-align: right;\">\n",
       "      <th></th>\n",
       "      <th>book_authors</th>\n",
       "      <th>book_desc</th>\n",
       "      <th>book_edition</th>\n",
       "      <th>book_format</th>\n",
       "      <th>book_isbn</th>\n",
       "      <th>book_pages</th>\n",
       "      <th>book_rating</th>\n",
       "      <th>book_rating_count</th>\n",
       "      <th>book_review_count</th>\n",
       "      <th>book_title</th>\n",
       "      <th>genres</th>\n",
       "      <th>image_url</th>\n",
       "      <th>author_labels</th>\n",
       "    </tr>\n",
       "  </thead>\n",
       "  <tbody>\n",
       "    <tr>\n",
       "      <th>50700</th>\n",
       "      <td>[Winston Groom]</td>\n",
       "      <td>Forrest Gump captured our hearts in the #1 New...</td>\n",
       "      <td></td>\n",
       "      <td>Paperback</td>\n",
       "      <td>9.78E+12</td>\n",
       "      <td>242.0</td>\n",
       "      <td>3.27</td>\n",
       "      <td>2546</td>\n",
       "      <td>209</td>\n",
       "      <td>Gump and Co.</td>\n",
       "      <td>[Fiction, Humor]</td>\n",
       "      <td>https://images.gr-assets.com/books/1387667059l...</td>\n",
       "      <td>[29332]</td>\n",
       "    </tr>\n",
       "  </tbody>\n",
       "</table>\n",
       "</div>"
      ],
      "text/plain": [
       "          book_authors                                          book_desc  \\\n",
       "50700  [Winston Groom]  Forrest Gump captured our hearts in the #1 New...   \n",
       "\n",
       "      book_edition book_format book_isbn  book_pages  book_rating  \\\n",
       "50700                Paperback  9.78E+12       242.0         3.27   \n",
       "\n",
       "       book_rating_count  book_review_count    book_title            genres  \\\n",
       "50700               2546                209  Gump and Co.  [Fiction, Humor]   \n",
       "\n",
       "                                               image_url author_labels  \n",
       "50700  https://images.gr-assets.com/books/1387667059l...       [29332]  "
      ]
     },
     "execution_count": 57,
     "metadata": {},
     "output_type": "execute_result"
    }
   ],
   "source": [
    "df[df[\"book_title\"] == \"Gump and Co.\"]"
   ]
  },
  {
   "cell_type": "code",
   "execution_count": 58,
   "metadata": {},
   "outputs": [],
   "source": [
    "def recommend(inp_book_title, df_all):\n",
    "    book_index = df_all.index[df['book_title'] == inp_book_title].tolist()[0]\n",
    "    #print(f'Book index is {book_index}')\n",
    "    \n",
    "    book_authors = df.loc[book_index, 'author_labels']\n",
    "    #print(f'Book authors are {book_authors}')\n",
    "    \n",
    "    recommended_books = df[df['author_labels'].apply(lambda x: set(x) ==set(book_authors))].sort_values('book_rating')\n",
    "    #print(recommended_books)\n",
    "    \n",
    "    if book_index in recommended_books.index:\n",
    "        recommended_books = recommended_books.drop(book_index)\n",
    "        \n",
    "    return recommended_books"
   ]
  },
  {
   "cell_type": "code",
   "execution_count": 59,
   "metadata": {},
   "outputs": [
    {
     "name": "stdout",
     "output_type": "stream",
     "text": [
      "            book_authors                                          book_desc  \\\n",
      "21501  [Stephenie Meyer]  Celebrate the tenth anniversary of Twilight! T...   \n",
      "923    [Stephenie Meyer]  Bree Tanner can barely remember life before sh...   \n",
      "1302   [Stephenie Meyer]  As Seattle is ravaged by a string of mysteriou...   \n",
      "1363   [Stephenie Meyer]  To be irrevocably in love with a vampire is bo...   \n",
      "41907  [Stephenie Meyer]  «No tengas miedo», le susurré.«Somos como una ...   \n",
      "\n",
      "                                  book_edition            book_format  \\\n",
      "21501  Twilight Tenth Anniversary/Dual Edition              Hardcover   \n",
      "923                              First Edition              Hardcover   \n",
      "1302                             First Edition              Hardcover   \n",
      "1363                             First Edition              Hardcover   \n",
      "41907                                           Mass Market Paperback   \n",
      "\n",
      "      book_isbn  book_pages  book_rating  book_rating_count  \\\n",
      "21501  9.78E+12       738.0         3.38              22464   \n",
      "923    9.78E+12       178.0         3.50             167390   \n",
      "1302   9.78E+12       629.0         3.69            1245595   \n",
      "1363   9.78E+12       756.0         3.69            1156817   \n",
      "41907                 832.0         3.69            1157311   \n",
      "\n",
      "       book_review_count                            book_title  \\\n",
      "21501               4969             Twilight / Life and Death   \n",
      "923                10190  The Short Second Life of Bree Tanner   \n",
      "1302               36083                               Eclipse   \n",
      "1363               45413                         Breaking Dawn   \n",
      "41907              45424                              Amanecer   \n",
      "\n",
      "                                                  genres  \\\n",
      "21501  [Young Adult, Fantasy, Romance, Paranormal, Va...   \n",
      "923    [Young Adult, Fantasy, Paranormal, Vampires, F...   \n",
      "1302   [Young Adult, Fantasy, Romance, Paranormal, Va...   \n",
      "1363   [Young Adult, Fantasy, Romance, Paranormal, Va...   \n",
      "41907  [Young Adult, Fantasy, Romance, Paranormal, Va...   \n",
      "\n",
      "                                               image_url author_labels  \n",
      "21501  https://images.gr-assets.com/books/1506725125l...       [26503]  \n",
      "923    https://images.gr-assets.com/books/1274335680l...       [26503]  \n",
      "1302   https://images.gr-assets.com/books/1361038355l...       [26503]  \n",
      "1363   https://images.gr-assets.com/books/1361039438l...       [26503]  \n",
      "41907  https://images.gr-assets.com/books/1321798898l...       [26503]  \n"
     ]
    }
   ],
   "source": [
    "book_name = 'Twilight'\n",
    "books = recommend(book_name, df)\n",
    "print(books.head())"
   ]
  },
  {
   "cell_type": "code",
   "execution_count": 60,
   "metadata": {},
   "outputs": [
    {
     "name": "stdout",
     "output_type": "stream",
     "text": [
      "Author Label:  [26503]\n",
      "Author Names:  [['Stephenie Meyer']]\n"
     ]
    }
   ],
   "source": [
    "book_title = \"Twilight / Life and Death\"  # example book title\n",
    "book_row = df[df[\"book_title\"] == book_title]  # filter the DataFrame based on book title\n",
    "author_label = book_row[\"author_labels\"].values[0]  # get the author label as a list\n",
    "author_names = []\n",
    "for label in author_label:\n",
    "    author_names.append(df[df[\"author_labels\"].apply(lambda x: label in x)][\"book_authors\"].values[0])\n",
    "print(\"Author Label: \", author_label)\n",
    "print(\"Author Names: \", author_names)\n"
   ]
  },
  {
   "cell_type": "code",
   "execution_count": null,
   "metadata": {},
   "outputs": [],
   "source": []
  }
 ],
 "metadata": {
  "kernelspec": {
   "display_name": "Python 3.9.16 ('tf')",
   "language": "python",
   "name": "python3"
  },
  "language_info": {
   "codemirror_mode": {
    "name": "ipython",
    "version": 3
   },
   "file_extension": ".py",
   "mimetype": "text/x-python",
   "name": "python",
   "nbconvert_exporter": "python",
   "pygments_lexer": "ipython3",
   "version": "3.9.16"
  },
  "orig_nbformat": 4,
  "vscode": {
   "interpreter": {
    "hash": "a50afa644c776f7a2a60a52e60e30bd38a1de8f1520052de409d0e9c4f2415b8"
   }
  }
 },
 "nbformat": 4,
 "nbformat_minor": 2
}
